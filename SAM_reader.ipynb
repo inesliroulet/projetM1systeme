{
 "cells": [
  {
   "cell_type": "markdown",
   "id": "a7f6e528",
   "metadata": {},
   "source": [
    "# **SAM reader program**"
   ]
  },
  {
   "cell_type": "markdown",
   "id": "a56fa943",
   "metadata": {},
   "source": [
    "Authors: Inès Liroulet & Daphné Navratil"
   ]
  },
  {
   "cell_type": "markdown",
   "id": "36a0fd61",
   "metadata": {},
   "source": [
    "Contact: <ines.liroulet@etu.umontpellier.fr> & <daphne.navratil@etu.umontpellier.fr>"
   ]
  },
  {
   "cell_type": "markdown",
   "id": "6f488f0e",
   "metadata": {},
   "source": [
    "Version: 0.0.1"
   ]
  },
  {
   "cell_type": "markdown",
   "id": "52949b0b",
   "metadata": {},
   "source": [
    "Date of publication: 12/06/2022"
   ]
  },
  {
   "cell_type": "markdown",
   "id": "b2466703",
   "metadata": {},
   "source": [
    "This program is free software: you can redistribute it and/or modify it under the terms of the GNU General Public License as published by the Free Software Foundation, either version 3 of the License, or (at your option) any later version. This program is distributed in the hope that it will be useful, but WITHOUT ANY WARRANTY; without even the implied warranty of MERCHANTABILITY or FITNESS FOR A PARTICULAR PURPOSE. See the GNU General Public License for more details. You should have received a copy of the GNU General Public License along with this program. If not, see <https://www.gnu.org/licenses/>."
   ]
  },
  {
   "cell_type": "markdown",
   "id": "25210477",
   "metadata": {},
   "source": [
    "# Our program"
   ]
  },
  {
   "cell_type": "markdown",
   "id": "c6649751",
   "metadata": {},
   "source": [
    "SAM_reader is a program designed to analyse the data of a SAM file, a file type used to store mapping information of reads produced by NGS sequencing on a reference genome.\n",
    "This program displays a short summary of the data: the total number of reads, the number of reads above a required quality, the number of reads matching the reference sequence, the number of mapped reads, the number of unmapped and the number of properly mapped reads. In addition, it generates new SAM files containing the extracted reads meeting the previous conditions."
   ]
  },
  {
   "cell_type": "markdown",
   "id": "b5b2006d",
   "metadata": {},
   "source": [
    "## I. Importing the modules"
   ]
  },
  {
   "cell_type": "code",
   "execution_count": null,
   "id": "707f32d6",
   "metadata": {},
   "outputs": [],
   "source": [
    "import os, sys, re, time"
   ]
  },
  {
   "cell_type": "markdown",
   "id": "b6c85f91",
   "metadata": {},
   "source": [
    "## II. Checking if the given file is adequate"
   ]
  },
  {
   "cell_type": "code",
   "execution_count": null,
   "id": "fadd87c3",
   "metadata": {},
   "outputs": [],
   "source": [
    "def check():\n",
    "    print(\"\\n\") #Skipping a line\n",
    "    fichier = input(\"Please provide a SAM file to analyse: \") #Asking for file\n",
    "    if os.path.isfile(fichier): #Checking if path is a file\n",
    "        if fichier.split(\".\")[1] == \"sam\": #Checking if extension of the file is sam\n",
    "            if os.stat(fichier).st_size > 0: #Checking if size is greater than 0 bytes\n",
    "                return fichier #All conditions are verified : file name is returned\n",
    "            else:\n",
    "                print(\"Your file is empty! Please launch the program again.\") #Printing error message\n",
    "                print(\"\\n\") #Skipping a line\n",
    "                exit() #Exiting program\n",
    "        else:\n",
    "            print(\"Your file is not a SAM file! Please launch the program again.\") #Printing error message\n",
    "            print(\"\\n\") #Skipping a line\n",
    "            exit() #Exiting program\n",
    "    else:\n",
    "        print(\"What you provided is not a file! Please launch the program again.\") #Printing error message\n",
    "        print(\"\\n\") #Skipping a line\n",
    "        exit() #Exiting program"
   ]
  },
  {
   "cell_type": "markdown",
   "id": "f70d70c1",
   "metadata": {},
   "source": [
    "## III. Reading and storing the given file"
   ]
  },
  {
   "cell_type": "code",
   "execution_count": null,
   "id": "a84c45e7",
   "metadata": {},
   "outputs": [],
   "source": [
    "def readAndStore(fichier): #Parameter: given sam file\n",
    "    f = open(fichier, \"r\") #Opening sam file in reading mode\n",
    "    header = [] #Creating list to store header lines\n",
    "    data = {} #Creating dictionary to store reads\n",
    "    for ligne in f:\n",
    "        if ligne[0] == \"@\": #Focusing on header lines\n",
    "            header.append(ligne) #Adding each line to the list\n",
    "        if ligne[0] != \"@\": #Excluding header lines\n",
    "            chaine = ligne.split(\"\\t\") #Splitting the string (denominator = tabulation)\n",
    "            key = chaine[0] #Getting read name to use as key\n",
    "            if (key[-2:] == \"/1\") or (key[-2:] == \"/2\") or (key[-2:] == \".1\") or (key[-2:] == \".2\") or (key[-2:] == \"_1\") or (key[-2:] == \"_2\"): #For new SAM files : removing numbers from name of read + its mate\n",
    "                key = key[:len(key)-2] #Removing last two caracters\n",
    "            if key in data.keys(): #Checking if read key already in dictionary\n",
    "                data[key].append(chaine[1:]) #If yes: adding other read (mate) to the key\n",
    "            else :\n",
    "                data[key] = [chaine[1:]] #If not: creating key and its corresponding read\n",
    "                #List indices: 0 is flag, 1 is ref, 2 is position, 3 is quality, 4 is CIGAR, 5 is \"=\", 6 is mate reference, 7 is mate position, 8 is sequence length, 9 is quality sequence, 10+ is tags.\n",
    "    f.close() #Closing file\n",
    "    return header, data #Returning list of header lines and dictionary of all reads"
   ]
  },
  {
   "cell_type": "markdown",
   "id": "28b1c85e",
   "metadata": {},
   "source": [
    "## IV. Analysing the given file"
   ]
  },
  {
   "cell_type": "markdown",
   "id": "508ca595",
   "metadata": {},
   "source": [
    "### A. Asking wanted minimal quality value to user"
   ]
  },
  {
   "cell_type": "code",
   "execution_count": null,
   "id": "1bb1e14a",
   "metadata": {},
   "outputs": [],
   "source": [
    "def question():\n",
    "    print(\"\\n\") #Skipping a line\n",
    "    qualityValue = 20 #Defining default value\n",
    "    answer = input(\"The default minimum quality value is 20. Do you want to change it? (y/n) \").lower() #Asking and storing answer\n",
    "    if answer == \"y\": #If user wants to change value\n",
    "        qualityValue = int(input(\"Please provide a minimum quality value: \")) #Asking wanted value and storing it\n",
    "        print(\"The minimum quality value will be set to:\", qualityValue) #Confirming change to user\n",
    "    elif answer == \"n\": #If not\n",
    "        print(\"The minimum quality value will not be changed.\") #Confirming answer to user\n",
    "    else: \n",
    "        print(\"Please answer by typing 'y' or 'n'!\") #Telling user to answer correctly if they don't\n",
    "        question() #Asking question again (launching function again)\n",
    "    return qualityValue #Returning minimum quality value"
   ]
  },
  {
   "cell_type": "markdown",
   "id": "127d7240",
   "metadata": {},
   "source": [
    "### B. Extracting reads above that minimal value to a new dictionary"
   ]
  },
  {
   "cell_type": "code",
   "execution_count": null,
   "id": "0668211b",
   "metadata": {},
   "outputs": [],
   "source": [
    "def extractQualityReads(data, minValue): #Parameters: (main) dictionary, miminum quality value\n",
    "    dataQuality = {} #Creating dictionary to store wanted reads\n",
    "    for read in data.items(): #Going through (main) dictionary\n",
    "        for i in range(len(read[1])): #Going through each read stored in key\n",
    "            if int(read[1][i][3]) >= minValue: #Checking if quality value above minimum value\n",
    "                if read[0] in dataQuality.keys(): #If yes: checking if read key already in dictionary\n",
    "                   dataQuality[read[0]].append(read[1][i]) #If yes: adding other read (mate) to key\n",
    "                else:\n",
    "                     dataQuality[read[0]] = [read[1][i]] #If not: creating key and its corresponding read\n",
    "    return dataQuality #Returning new dictionary with only wanted reads"
   ]
  },
  {
   "cell_type": "markdown",
   "id": "ed7cdc61",
   "metadata": {},
   "source": [
    "### C. Extracting matching reads to a new dictionary"
   ]
  },
  {
   "cell_type": "code",
   "execution_count": null,
   "id": "f260870e",
   "metadata": {},
   "outputs": [],
   "source": [
    "def testCigar(data): #Parameter: (main) dictionary\n",
    "    dataCigar = {} #Creating dictionary to store wanted reads\n",
    "    for read in data.items(): #Going through (main) dictionary\n",
    "        for i in range(len(read[1])): #Going through each read stored in key\n",
    "            if re.match(\"[0-9]+M\", read[1][i][4]): #Checking if CIGAR is a series of digits followed by 'M'\n",
    "                if read[0] in dataCigar.keys(): #If yes: checking if read key already in dictionary\n",
    "                    dataCigar[read[0]].append(read[1][i]) #If yes: adding other read (mate) to key\n",
    "                else:\n",
    "                    dataCigar[read[0]] = [read[1][i]] #If not: creating key and its corresponding read\n",
    "    return dataCigar #Returning new dictionary with only wanted reads"
   ]
  },
  {
   "cell_type": "markdown",
   "id": "681a5f68",
   "metadata": {},
   "source": [
    "### D. Searching a flag value in a given flag"
   ]
  },
  {
   "cell_type": "code",
   "execution_count": null,
   "id": "fa315ef8",
   "metadata": {},
   "outputs": [],
   "source": [
    "def flagSearch(flag, valFlag): #Parameters: searched flag value, given flag\n",
    "    fichier_flag = open(\"flag_table.csv\", \"r\") #Opening csv file with table of flag values in reading mode\n",
    "    t = fichier_flag.readlines() #Reading each line and assigning them to a variable\n",
    "    b = False #Setting boolean to False by default\n",
    "    i = len(t)-1 #Setting i to start from last line of table\n",
    "    while i >= 0 and b == False: #As long as i has not reached 0 and boolean is False\n",
    "        value = int(t[i].split(\",\")[0]) #Select value in table line\n",
    "        if value <= valFlag: #Checking if flag value inferior to given flag\n",
    "            if value == flag: #If yes: checking if value is equal to searched flag\n",
    "                b = True #If yes: boolean changes to True\n",
    "            else:\n",
    "                valFlag = valFlag - value #If no: substracting value from given flag\n",
    "        i = i-1 #Decrease i by one\n",
    "    return b #Return boolean value"
   ]
  },
  {
   "cell_type": "markdown",
   "id": "6fee68db",
   "metadata": {},
   "source": [
    "### E. Extracting mapped and unmapped reads to new dictionaries"
   ]
  },
  {
   "cell_type": "code",
   "execution_count": null,
   "id": "8fdaf805",
   "metadata": {},
   "outputs": [],
   "source": [
    "def mapped_unmapped(data): #Parameter: (main) dictionary\n",
    "    dataMapped = {} #Creating dictionary to store wanted reads (mapped)\n",
    "    dataUnmapped = {} #Creating dictionary to store wanted reads (unmapped)\n",
    "    listGood = [] #Creating list to store flags corresponding to mapped reads (\"good list\")\n",
    "    listBad = [] #Creating list to store flags corresponding to unmapped reads (\"bad list\")\n",
    "    for read in data.items(): #Going through (main) dictionary\n",
    "        for i in range(len(read[1])): #Going through each read stored in key\n",
    "            if (read[1][i][0] in listBad) == False: #If read flag not in bad list\n",
    "                if read[1][i][0] in listGood: #If not in bad list: checking if read flag in good list\n",
    "                    if read[0] in dataMapped.keys(): #If in good list: checking if read key already in mapped dictionary\n",
    "                        dataMapped[read[0]].append(read[1][i]) #If yes: adding other read (mate) to key\n",
    "                    else:\n",
    "                        dataMapped[read[0]] = [read[1][i]] #If not: creating key and its corresponding read\n",
    "                elif flagSearch(4,int(read[1][i][0])) == False: #If not in good list: checking if read is mapped\n",
    "                    listGood.append(read[1][i][0]) #If yes: adding read flag to good list\n",
    "                    if read[0] in dataMapped.keys(): #And checking if read key already in mapped dictionary\n",
    "                        dataMapped[read[0]].append(read[1][i]) #If yes: adding other read (mate) to key\n",
    "                    else:\n",
    "                        dataMapped[read[0]] = [read[1][i]]  #If not: creating key and its corresponding read\n",
    "                else: #If read flag not in bad list and not mapped\n",
    "                    listBad.append(read[1][i][0]) #Adding read flag to bad list\n",
    "                    if read[0] in dataUnmapped.keys(): #Checking if read key already in unmapped dictionary\n",
    "                        dataUnmapped[read[0]].append(read[1][i]) #If yes: adding other read (mate) to key\n",
    "                    else:\n",
    "                        dataUnmapped[read[0]] = [read[1][i]] #If not: creating key and its corresponding read\n",
    "            else: #If read flag in bad list\n",
    "                if read[0] in dataUnmapped.keys(): #Checking if read key already in unmapped dictionary\n",
    "                    dataUnmapped[read[0]].append(read[1][i]) #If yes: adding other read (mate) to key\n",
    "                else:\n",
    "                    dataUnmapped[read[0]] = [read[1][i]] #If not: creating key and its corresponding read            \n",
    "    return dataMapped, dataUnmapped #Returning new dictionaries with only wanted reads (mapped and unmapped)"
   ]
  },
  {
   "cell_type": "markdown",
   "id": "f75c87cb",
   "metadata": {},
   "source": [
    "### F. Extracting properly mapped reads to a new dictionary"
   ]
  },
  {
   "cell_type": "code",
   "execution_count": null,
   "id": "2bb1cc1f",
   "metadata": {},
   "outputs": [],
   "source": [
    "def properlyMapped(data): #Parameter: (main) dictionary\n",
    "    dataProperlyMapped = {} #Creating dictionary to store wanted reads\n",
    "    listGood_1 = [] #Creating list to store flags corresponding to properly mapped reads (\"list 1\")\n",
    "    listGood_2 = [] #Creating list to store flags corresponding to properly mapped mates (\"list 2\")\n",
    "    for read in data.items(): #Going through (main) dictionary\n",
    "        if len(read[1]) == 2: #Checking if key contains two reads (read + mate)\n",
    "            bol = False #Setting default boolean value to false\n",
    "            i = 0 #Setting i to 0\n",
    "            while bol == False and i < len(listGood_1): #As long as boolean is False and i is inferior to length of list 1\n",
    "                if read[1][0][0] == listGood_1[i] and read[1][1][0] == listGood_2[i]: #Checking if read flag in list 1 and mate flag in list 2\n",
    "                    dataProperlyMapped[read[0]] = read[1] #If yes : adding read and mate to dictionary\n",
    "                    bol = True #Changing boolean value to True\n",
    "                i = i+1 #Increasing i by one\n",
    "            if bol == False: #Checking if boolean still False after i goes over list length in previous loop\n",
    "                if ((flagSearch(2,int(read[1][0][0])) and flagSearch(16,int(read[1][0][0]))) or (flagSearch(2,int(read[1][0][0])) and flagSearch(32,int(read[1][0][0])))) and ((flagSearch(2,int(read[1][1][0])) and flagSearch(32,int(read[1][1][0]))) or (flagSearch(2,int(read[1][1][0])) and flagSearch(16,int(read[1][1][0])))): #Checking if read and mate are properly mapped using flags\n",
    "                    dataProperlyMapped[read[0]] = read[1] #If yes: adding read to dictionary\n",
    "                    listGood_1.append(read[1][0][0]) #Adding read flag to list 1 \n",
    "                    listGood_2.append(read[1][1][0]) #Adding mate flag to list 2\n",
    "    return dataProperlyMapped #Returning new dictionary with only wanted reads"
   ]
  },
  {
   "cell_type": "markdown",
   "id": "4b90627f",
   "metadata": {},
   "source": [
    "## V. Summarising the data"
   ]
  },
  {
   "cell_type": "markdown",
   "id": "5d727cc1",
   "metadata": {},
   "source": [
    "### A. Counting reads in a dictionary"
   ]
  },
  {
   "cell_type": "code",
   "execution_count": null,
   "id": "788242bc",
   "metadata": {},
   "outputs": [],
   "source": [
    "def readCounter(data): #Parameter: any of our dictionaries\n",
    "    counter = 0 #Setting counter variable to 0\n",
    "    for read in data.values(): #Going through reads stored in each key of dictionary\n",
    "        counter += len(read) #Adding number of reads to counter\n",
    "    return counter #Returning counter"
   ]
  },
  {
   "cell_type": "markdown",
   "id": "efd7babc",
   "metadata": {},
   "source": [
    "### B. Calculating  percentage of reads"
   ]
  },
  {
   "cell_type": "code",
   "execution_count": null,
   "id": "c46dff2e",
   "metadata": {},
   "outputs": [],
   "source": [
    "def percentage(dataLen, newDataLen): #Parameters: main dictionary length, new dictionary length\n",
    "    percentage = round((newDataLen/dataLen)*100, 3) #Calculating percentage\n",
    "    return percentage #Returning percentage"
   ]
  },
  {
   "cell_type": "markdown",
   "id": "26ef57a1",
   "metadata": {},
   "source": [
    "### C. Printing a summary of the data"
   ]
  },
  {
   "cell_type": "code",
   "execution_count": null,
   "id": "95c53fa1",
   "metadata": {},
   "outputs": [],
   "source": [
    "def summary(qValue, data, dataQuality, dataCigar, dataMapped, dataUnmapped, dataProperlyMapped): #Parameters: minimum quality value, main dictionary, new dictionaries with extracted reads\n",
    "    dataLen = readCounter(data) #Assigning main dictionary length to a variable\n",
    "    dataQualityLen = readCounter(dataQuality) #Assigning quality dictionary length to a variable\n",
    "    dataCigarLen = readCounter(dataCigar) #Assigning matching dictionary length to a variable\n",
    "    dataMappedLen = readCounter(dataMapped) #Assigning mapped dictionary length to a variable\n",
    "    dataUnmappedLen = readCounter(dataUnmapped) #Assigning unmapped dictionary length to a variable\n",
    "    dataProperlyMappedLen = readCounter(dataProperlyMapped) #Assigning properly mapped dictionary length to a variable\n",
    "    print(\"\\n\") #Skipping a line\n",
    "    print(\"Your file contains a total number of\", dataLen, \"reads.\") #Printing total number of reads in main dictionary\n",
    "    print(\"The number of reads above\", qValue, \"is\", dataQualityLen, \"reads, which corresponds to\", percentage(dataLen, dataQualityLen), \"percents of total reads.\") #Printing number and % of reads in data dictionary\n",
    "    print(\"The number of matching reads\", dataCigarLen, \"reads, which corresponds to\", percentage(dataLen, dataCigarLen), \"percents of total reads.\") #Printing number and % of reads in matching dictionary\n",
    "    print(\"The number of mapped reads is\", dataMappedLen, \"reads, which corresponds to\", percentage(dataLen, dataMappedLen), \"percents of total reads.\") #Printing number and % of reads in mapped dictionary\n",
    "    print(\"The number of unmapped reads is\", dataUnmappedLen, \"reads, which corresponds to\", percentage(dataLen, dataUnmappedLen), \"percents of total reads.\") #Printing number and % of reads in unmapped dictionary\n",
    "    print(\"The number of properly mapped reads is\", dataProperlyMappedLen, \"reads, which corresponds to\", percentage(dataMappedLen, dataProperlyMappedLen), \"percents of mapped reads and\", percentage(dataLen, dataProperlyMappedLen), \"percents of total reads.\") #Printing number and % of reads in properly mapped dictionary\n",
    "    print(\"\\n\") #Skipping a line"
   ]
  },
  {
   "cell_type": "markdown",
   "id": "1ce181aa",
   "metadata": {},
   "source": [
    "## VI. Extracting the analysed data into new files"
   ]
  },
  {
   "cell_type": "code",
   "execution_count": null,
   "id": "44f85505",
   "metadata": {},
   "outputs": [],
   "source": [
    "def writeSAMfile(fichier, Type, header, data): #Parameters: original sam file, type of extraction, sam file header, dictionary of reads\n",
    "    fileName = fichier.rstrip(\".sam\")+\"_\"+Type+\".sam\" #Creating name of new file\n",
    "    with open(fileName, 'w') as f: #Opening new file (and closing after loop is completed)\n",
    "        for item in header: #Going through each line stored in header list\n",
    "            f.write(item) #Writing header line\n",
    "        for read in data.items(): #Going through dictionary\n",
    "            for i in range(len(read[1])): #Going through each read stored in key\n",
    "                f.write(read[0]+\"\\t\"+\"\\t\".join(read[1][i])) #Writing key (read name) and each read information, separated by tabulation"
   ]
  },
  {
   "cell_type": "markdown",
   "id": "0efa4bce",
   "metadata": {},
   "source": [
    "## VII. Launching the program (main program)"
   ]
  },
  {
   "cell_type": "markdown",
   "id": "1c412896",
   "metadata": {},
   "source": [
    "### Defining main"
   ]
  },
  {
   "cell_type": "code",
   "execution_count": null,
   "id": "7be95dc5",
   "metadata": {},
   "outputs": [],
   "source": [
    "def main():\n",
    "    fichier = check() #Storing file name in variable (after checking)\n",
    "    response = question() #Asking user wanted minimum quality value\n",
    "    start = time.time() #Starting timing of program\n",
    "    header, dico = readAndStore(fichier) #Reading and storing header and file content in variables\n",
    "    dicoQuality = extractQualityReads(dico, response) #Creating and storing quality dictionary\n",
    "    dicoCigar = testCigar(dico) #Creating and storing matching dictionary\n",
    "    dicoMapped, dicoUnmapped = mapped_unmapped(dico) #Creating and storing mapped and unmapped dictionaries\n",
    "    dicoProperlyMapped = properlyMapped(dicoMapped) #Creating and storing properly mapped dictionary\n",
    "    summary(response, dico, dicoQuality, dicoCigar, dicoMapped, dicoUnmapped, dicoProperlyMapped) #Printing data summary\n",
    "    \n",
    "    writeSAMfile(fichier, \"quality_above_\"+str(response), header, dicoQuality) #Creating file with quality reads\n",
    "    writeSAMfile(fichier, \"matching_reads\", header, dicoCigar) #Creating file with matching reads\n",
    "    writeSAMfile(fichier, \"mapped_reads\", header, dicoMapped) #Creating file with mapped reads\n",
    "    writeSAMfile(fichier, \"unmapped_reads\", header, dicoUnmapped) #Creating file with unmapped reads\n",
    "    writeSAMfile(fichier, \"properly_mapped_reads\", header, dicoProperlyMapped) #Creating file with properly mapped reads\n",
    "\n",
    "    end = time.time() #Stopping timing of program\n",
    "    print(\"Time taken:\", end - start, \"seconds.\") #Print the time\n",
    "    print(\"\\n\") #Skipping a line"
   ]
  },
  {
   "cell_type": "markdown",
   "id": "7f7c65b1",
   "metadata": {},
   "source": [
    "### Launching main"
   ]
  },
  {
   "cell_type": "code",
   "execution_count": null,
   "id": "68f2babd",
   "metadata": {},
   "outputs": [],
   "source": [
    "if __name__ == \"__main__\": #Checking if file runs as a script\n",
    "    main() #If yes: launching program"
   ]
  },
  {
   "cell_type": "markdown",
   "id": "59512063",
   "metadata": {},
   "source": [
    "# Discussing our program"
   ]
  },
  {
   "cell_type": "markdown",
   "id": "e474e2e8",
   "metadata": {},
   "source": [
    "#### *Negative aspects:*"
   ]
  },
  {
   "cell_type": "markdown",
   "id": "e948406d",
   "metadata": {},
   "source": [
    "The pysam module also enables to process SAM file data. We could have simply used this module to obtain our results in a quicker and simpler manner."
   ]
  },
  {
   "cell_type": "markdown",
   "id": "4e8128ad",
   "metadata": {},
   "source": [
    "Moreover, our program does not allow us to treat all different cases of flags and CIGARs. For example, it does not allow us to create a file containing only reads that have been mapped in reverse, and does not allow us to create a file containing reads whose sequences contain deletions compared to the reference sequence."
   ]
  },
  {
   "cell_type": "markdown",
   "id": "96ff7460",
   "metadata": {},
   "source": [
    "Furthermore, it would be interesting to modify the program so that it can create a file for each different reference sequence present in the original file."
   ]
  },
  {
   "cell_type": "markdown",
   "id": "97e78660",
   "metadata": {},
   "source": [
    "#### *Positive aspects:*"
   ]
  },
  {
   "cell_type": "markdown",
   "id": "a9833d0b",
   "metadata": {},
   "source": [
    "Our code prints displays a summary of our SAM file data and produces new SAM files containing the extracted reads and their information depending on different criteria -- for example, reads that are above the required quality only."
   ]
  },
  {
   "cell_type": "markdown",
   "id": "102d6e93",
   "metadata": {},
   "source": [
    "Moreover, our program works both on the old SAM file format as well as the new one, in which the two reads of a same pair are differentiated by an added “_1” or a “_2” at the end of their names. "
   ]
  },
  {
   "cell_type": "markdown",
   "id": "51a95918",
   "metadata": {},
   "source": [
    "Finally, our program is timed and its execution time is displayed, and seems to be relatively short."
   ]
  },
  {
   "cell_type": "markdown",
   "id": "1018d6d6",
   "metadata": {},
   "source": [
    "#### *Justifying our choices:*"
   ]
  },
  {
   "cell_type": "markdown",
   "id": "4b44031e",
   "metadata": {},
   "source": [
    "We chose to regroup reads belonging to the same pair in a list. Therefore, we have dictionaries with a list of lists, which is associated with one key: the name of the read. We made that decision in order to offer a program that works for any kind of SAM file, even if the reads of a same pair have exactly the same name, or if there are more or less than two reads in a pair (if a mistake has been made during sequencing, for instance)."
   ]
  },
  {
   "cell_type": "markdown",
   "id": "5cacb2a3",
   "metadata": {},
   "source": [
    "For the processing of the flag, we stored the flag values that already went through our ‘flagSearch‘ function in lists to prevent unnecessary calculation so as to make our program faster."
   ]
  },
  {
   "cell_type": "markdown",
   "id": "35a9f344",
   "metadata": {},
   "source": [
    "# **Access to github repository**"
   ]
  },
  {
   "cell_type": "markdown",
   "id": "421143af",
   "metadata": {},
   "source": [
    "<https://github.com/inesliroulet/projetM1systeme.git>"
   ]
  },
  {
   "cell_type": "markdown",
   "id": "f314064e",
   "metadata": {},
   "source": [
    "## *Possible applications of sequencing analysis (bonus)*"
   ]
  },
  {
   "cell_type": "markdown",
   "id": "f0b5c732",
   "metadata": {},
   "source": [
    "NGS sequencing is used in France for patients with ovarian cancer for the detection of mutations on BRCA1 and BRCA2 genes. Those genes are involved in the DNA repair mechanism of double strand breaks by homologous recombination. Deleterious mutations on those genes cause a dysfunction of this repair system, which leads to genome instability and thus cancer, particularly ovarian cancer. Ovarian cancer tumors associated with BRCA mutations are vulnerable to specific treatments, giving better survival to patients with those mutations. Therefore, detecting mutations on BRCA1/2 genes of ovarian cancer patients allows adaptation of treatment."
   ]
  }
 ],
 "metadata": {
  "kernelspec": {
   "display_name": "Python 3 (ipykernel)",
   "language": "python",
   "name": "python3"
  },
  "language_info": {
   "codemirror_mode": {
    "name": "ipython",
    "version": 3
   },
   "file_extension": ".py",
   "mimetype": "text/x-python",
   "name": "python",
   "nbconvert_exporter": "python",
   "pygments_lexer": "ipython3",
   "version": "3.10.6"
  }
 },
 "nbformat": 4,
 "nbformat_minor": 5
}
